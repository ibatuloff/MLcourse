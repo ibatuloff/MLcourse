{
  "cells": [
    {
      "cell_type": "markdown",
      "metadata": {
        "id": "M-DGa20PaHnu"
      },
      "source": [
        "#Задача 1\n",
        "Написать функцию на вход которой подается строка, состоящая из латинских букв.\n",
        "Функция должна вернуть количество гласных букв (a, e, i, o, u) в этой строке. Написать тесты для кода"
      ]
    },
    {
      "cell_type": "code",
      "execution_count": 1,
      "metadata": {
        "id": "XvX8X_JJ6PCb"
      },
      "outputs": [
        {
          "name": "stdout",
          "output_type": "stream",
          "text": [
            "Все тесты пройдены успешно!\n"
          ]
        }
      ],
      "source": [
        "# Your code goes here\n",
        "def find_vowels(n:str) -> int:\n",
        "    k = 0\n",
        "    vowels_list = ['a', 'e', 'i', 'o', 'u']\n",
        "    for char in n:\n",
        "        if char in vowels_list:\n",
        "            k += 1\n",
        "    return k\n",
        "\n",
        "def test_find_vowels():\n",
        "    assert find_vowels(\"ariralsocute\") == 6\n",
        "    assert find_vowels(\"lorem ipsum\") == 4\n",
        "    assert find_vowels(\"абвгдеёиж\") == 0\n",
        "    print(\"Все тесты пройдены успешно!\")\n",
        "\n",
        "test_find_vowels()"
      ]
    },
    {
      "cell_type": "markdown",
      "metadata": {
        "id": "t2ClV_Y0bbr6"
      },
      "source": [
        "# Задача 2\n",
        "Написать функцию на вход, которой подается строка. Функция должна вернуть true, если\n",
        "каждый символ в строке встречается только 1 раз, иначе должна вернуть false. Написать тесты для кода"
      ]
    },
    {
      "cell_type": "code",
      "execution_count": 3,
      "metadata": {
        "id": "FppbECao6VIz"
      },
      "outputs": [
        {
          "name": "stdout",
          "output_type": "stream",
          "text": [
            "Все тесты пройдены успешно!\n"
          ]
        }
      ],
      "source": [
        "# Your code goes here\n",
        "def check_for_repeats(n:str) -> bool:\n",
        "    return len(set([ord(char) for char in n])) == len(n)\n",
        "\n",
        "def test_check_for_repeats():\n",
        "    assert check_for_repeats(\"abcdefg\") == True\n",
        "    assert check_for_repeats(\"aAaAaAa\") == False\n",
        "    assert check_for_repeats(\"[{/\\\";:.,.\") == False\n",
        "    print(\"Все тесты пройдены успешно!\")\n",
        "\n",
        "test_check_for_repeats()"
      ]
    },
    {
      "cell_type": "markdown",
      "metadata": {
        "id": "udRiIK1cdt6E"
      },
      "source": [
        "# Задача 3\n",
        "Написать функцию, которая принимает положительное число и возвращает количество\n",
        "бит равных 1 в этом числе. Написать тесты для кода"
      ]
    },
    {
      "cell_type": "code",
      "execution_count": 22,
      "metadata": {
        "id": "6tkfDJRz6dp_"
      },
      "outputs": [
        {
          "name": "stdout",
          "output_type": "stream",
          "text": [
            "Все тесты пройдены успешно!\n"
          ]
        }
      ],
      "source": [
        "# Your code goes here\n",
        "def count_bits(n:int) -> int:\n",
        "    return bin(n)[2:].count('1')\n",
        "\n",
        "def test_count_bits():\n",
        "    assert count_bits(123) == 6\n",
        "    assert count_bits(0x16) == 3\n",
        "    assert count_bits(0b1001101) == 4\n",
        "    print(\"Все тесты пройдены успешно!\")\n",
        "    \n",
        "test_count_bits()\n"
      ]
    },
    {
      "cell_type": "markdown",
      "metadata": {
        "id": "26dDUz-Ae17N"
      },
      "source": [
        "# Задача 4\n",
        "Написать функцию, которая принимает положительное число. Функция должна вернуть то,\n",
        "сколько раз необходимо перемножать цифры числа или результат перемножения, чтобы\n",
        "получилось число состоящее из одной цифры.\n",
        "Например, для входного числа:\n",
        "· 39 функция должна вернуть 3, так как 3*9=27 => 2*7=14 => 1*4=4\n",
        "· 4 функция должна вернуть 0, так как число уже состоит из одной цифры\n",
        "· 999 функция должна вернуть 4, так как 9*9*9=729 => 7*2*9=126 => 1*2*6=12 =>\n",
        "1*2=2. Написать тесты для кода"
      ]
    },
    {
      "cell_type": "code",
      "execution_count": 21,
      "metadata": {
        "id": "BH1A_Mgi6i4G"
      },
      "outputs": [
        {
          "name": "stdout",
          "output_type": "stream",
          "text": [
            "Все тесты пройдены успешно!\n"
          ]
        }
      ],
      "source": [
        "from functools import reduce\n",
        "\n",
        "\n",
        "def magic(n:int) -> int:\n",
        "    # Your code goes here\n",
        "    k = 0\n",
        "    while n > 9:\n",
        "        n = reduce(lambda x, y: x*int(y), str(n), 1)\n",
        "        k += 1\n",
        "    return k\n",
        "\n",
        "def test_magic():\n",
        "    assert magic(39) == 3\n",
        "    assert magic(999) == 4\n",
        "    assert magic(22222) == 2\n",
        "    print(\"Все тесты пройдены успешно!\")\n",
        "\n",
        "test_magic()\n",
        "    \n"
      ]
    },
    {
      "cell_type": "markdown",
      "metadata": {
        "id": "0nS-kIa8g8vd"
      },
      "source": [
        "# Задача 5\n",
        "Написать функцию, которая принимает два целочисленных вектора одинаковой длины и\n",
        "возвращает среднеквадратическое отклонение двух векторов. Написать тесты для кода"
      ]
    },
    {
      "cell_type": "code",
      "execution_count": 15,
      "metadata": {
        "id": "8iphx4LM6xbx"
      },
      "outputs": [
        {
          "name": "stdout",
          "output_type": "stream",
          "text": [
            "Все тесты пройдены успешно!\n"
          ]
        }
      ],
      "source": [
        "import numpy as np\n",
        "\n",
        "\n",
        "def mse(pred, true):\n",
        "    # Your code goes here\n",
        "    # вычислить разницу двух соответсвующих координат\n",
        "    # возвести в квадрат каждую разницу\n",
        "    # суммировать разницы, поделить на мощность вектора (кол-во координат)\n",
        "    array1 = np.array(pred)\n",
        "    array2 = np.array(true)\n",
        "    if len(array2) != len(array1):\n",
        "        raise ValueError(\"Vectors must have the number of coords\")\n",
        "    diff = array2 - array1\n",
        "    return np.mean(np.square(diff))\n",
        "mse([1, 2, 3, 4, 5], [5, 4, 3, 2, 1])\n",
        "\n",
        "def test_mse():\n",
        "    assert mse([1, 2, 3, 4, 5], [5, 4, 3, 2, 1]) == 8.0\n",
        "    assert mse([1, 2, 3, 4, 5], [1, 2, 3, 4, 5]) == 0.0\n",
        "    assert mse([1, 2, 3, 4, 5], [1, 2, 3, 4, 9]) == 3.2\n",
        "    print(\"Все тесты пройдены успешно!\")\n",
        "\n",
        "test_mse()\n",
        "    \n",
        "\n",
        "\n",
        "\n"
      ]
    },
    {
      "cell_type": "markdown",
      "metadata": {
        "id": "vpIPKL439zkw"
      },
      "source": [
        "# Задача 6\n",
        "Написать функцию, принимающая целое положительное число. Функция должна вернуть\n",
        "строку вида “(n1**p1)(n2**p2)…(nk**pk)” представляющая разложение числа на простые\n",
        "множители (если pi == 1, то выводить только ni).\n",
        "Например, для числа 86240 функция должна вернуть “(2**5)(5)(7**2)(11)”. Написать тесты для кода"
      ]
    },
    {
      "cell_type": "code",
      "execution_count": 3,
      "metadata": {
        "id": "pFebmcZk94Jw"
      },
      "outputs": [
        {
          "name": "stdout",
          "output_type": "stream",
          "text": [
            "Все тесты пройдены успешно!\n"
          ]
        }
      ],
      "source": [
        "# Your code goes here\n",
        "def find_one_prime_num(num):\n",
        "    for i in range(2, int(num**0.5 + 1)):\n",
        "        if num % i == 0:\n",
        "            return i\n",
        "    return num\n",
        "\n",
        "def factorize(num):\n",
        "    prime_divisors = {}\n",
        "    while num != 1:\n",
        "        prime_divisor = find_one_prime_num(num)\n",
        "        if prime_divisor in prime_divisors:\n",
        "            prime_divisors[prime_divisor] += 1\n",
        "        else:\n",
        "            prime_divisors[prime_divisor] = 1\n",
        "        num //= prime_divisor\n",
        "    pairs = sorted(list(prime_divisors.items()))\n",
        "    res = []\n",
        "    for x, y in pairs:\n",
        "        s = f\"({x}\"\n",
        "        if y > 1:\n",
        "            s += f\"{y})\"\n",
        "        else:\n",
        "            s += \")\"\n",
        "        res.append(s)\n",
        "    return ''.join(res)\n",
        "        \n",
        "\n",
        "def test_factorize():\n",
        "    assert factorize(97681) == \"(23)(31)(137)\"\n",
        "    assert factorize(86240) == \"(25)(5)(72)(11)\"\n",
        "    assert factorize(91292) == \"(22)(29)(787)\"\n",
        "    assert factorize(123456789876543210) == \"(2)(34)(5)(372)(3336672)\"\n",
        "    print(\"Все тесты пройдены успешно!\")\n",
        "\n",
        "test_factorize()\n"
      ]
    },
    {
      "cell_type": "code",
      "execution_count": 41,
      "metadata": {},
      "outputs": [
        {
          "name": "stdout",
          "output_type": "stream",
          "text": [
            "Все тесты пройдены успешно!\n"
          ]
        }
      ],
      "source": [
        "# менее эффективный алгоритм, но зато объединяет повторяющиеся делители в степень делителя (т.е. если есть \"2222\", то он выведет (2**4))\n",
        "\n",
        "def factorize_less_effective(n, i=2):\n",
        "    if i > n // 2:\n",
        "        return f\"({n})\"\n",
        "    if n % i == 0:\n",
        "        k = 0\n",
        "        while n % i == 0:\n",
        "            k += 1\n",
        "            n //= i\n",
        "        if k > 1:\n",
        "            return f\"({i}**{k}){factorize_less_effective(n, i + 1)}\"\n",
        "        if k == 1:\n",
        "            return f\"({i}){factorize_less_effective(n, i + 1)}\"\n",
        "        \n",
        "\n",
        "    return factorize_less_effective(n, i + 1)\n",
        "\n",
        "def test_factorize_less_effective():\n",
        "    assert factorize_less_effective(97681) == \"(23)(31)(137)\"\n",
        "    assert factorize_less_effective(86240) == \"(2**5)(5)(7**2)(11)\"\n",
        "    assert factorize_less_effective(91292) == \"(2**2)(29)(787)\"\n",
        "    print(\"Все тесты пройдены успешно!\")\n",
        "\n",
        "test_factorize_less_effective()"
      ]
    },
    {
      "cell_type": "markdown",
      "metadata": {
        "id": "ps2s0BudX7A2"
      },
      "source": [
        "# Задача 7\n",
        "Написать функцию, принимающая целое число n, задающее количество кубиков. Функция\n",
        "должна определить, можно ли из данного кол-ва кубиков построить пирамиду, то есть\n",
        "можно ли представить число n как 1^2+2^2+3^2+…+k^2. Если можно, то функция должна\n",
        "вернуть k, иначе строку “It is impossible”. Написать тесты для кода"
      ]
    },
    {
      "cell_type": "code",
      "execution_count": 8,
      "metadata": {
        "id": "3YPjEXxhX_YT"
      },
      "outputs": [
        {
          "name": "stdout",
          "output_type": "stream",
          "text": [
            "Все тесты пройдены успешно!\n"
          ]
        }
      ],
      "source": [
        "def pyramid(number):\n",
        "    # Your code goes here\n",
        "    # в теории чисел есть формула суммы квадратов первых n чисел последовательности. \n",
        "    def sum(k):\n",
        "        return (k * (k + 1) * (2 * k + 1)) / 6\n",
        "    k = 1\n",
        "    while sum(k) <= number:\n",
        "        k += 1\n",
        "    k -= 1\n",
        "    if number == sum(k):\n",
        "        return k\n",
        "    else: return \"It is impossible\"\n",
        "\n",
        "def test_pyramid():\n",
        "    assert pyramid(14) == 3\n",
        "\n",
        "    assert pyramid(30) == 4\n",
        "\n",
        "    assert pyramid(31) == \"It is impossible\"\n",
        "\n",
        "    assert pyramid(55) == 5\n",
        "    print(\"Все тесты пройдены успешно!\")\n",
        "\n",
        "test_pyramid()"
      ]
    },
    {
      "cell_type": "markdown",
      "metadata": {
        "id": "KeKgmIdAQMEJ"
      },
      "source": [
        "# Задача 8\n",
        "Функция принимает на вход положительное число и определяет является ли оно сбалансированным, т.е. сумма цифр до средних равна сумме цифр после. Средними в случае нечетного числа цифр считать одну цифру, в случае четного - две средних. Написать тесты для кода"
      ]
    },
    {
      "cell_type": "code",
      "execution_count": 13,
      "metadata": {
        "id": "gMAAqtqlQrZt"
      },
      "outputs": [
        {
          "name": "stdout",
          "output_type": "stream",
          "text": [
            "Все тесты пройдены успешно!\n"
          ]
        }
      ],
      "source": [
        "# Your code goes here\n",
        "def is_balanced(number):\n",
        "    number =  str(number)\n",
        "    n = len(number)\n",
        "    middle = n // 2\n",
        "    left = number[:(middle - 1)] if n % 2 == 0 else number[:middle]\n",
        "    right = number[(middle + 1):]\n",
        "    sum_left = sum(list(map(int, list(left))))\n",
        "    sum_right = sum(list(map(int, list(right))))\n",
        "    return sum_left == sum_right\n",
        "\n",
        "def test_is_balanced():\n",
        "    assert is_balanced(16375217) == True\n",
        "    assert is_balanced(2560652) == True\n",
        "    assert is_balanced(1234456) == False\n",
        "    print(\"Все тесты пройдены успешно!\")\n",
        "\n",
        "test_is_balanced()"
      ]
    }
  ],
  "metadata": {
    "colab": {
      "provenance": []
    },
    "kernelspec": {
      "display_name": "Python 3",
      "name": "python3"
    },
    "language_info": {
      "codemirror_mode": {
        "name": "ipython",
        "version": 3
      },
      "file_extension": ".py",
      "mimetype": "text/x-python",
      "name": "python",
      "nbconvert_exporter": "python",
      "pygments_lexer": "ipython3",
      "version": "3.12.0"
    }
  },
  "nbformat": 4,
  "nbformat_minor": 0
}
